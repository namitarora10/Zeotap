{
  "nbformat": 4,
  "nbformat_minor": 0,
  "metadata": {
    "colab": {
      "provenance": []
    },
    "kernelspec": {
      "name": "python3",
      "display_name": "Python 3"
    },
    "language_info": {
      "name": "python"
    }
  },
  "cells": [
    {
      "cell_type": "code",
      "execution_count": null,
      "metadata": {
        "id": "2IxSML9LviL6"
      },
      "outputs": [],
      "source": [
        "# Import necessary libraries\n",
        "import pandas as pd\n",
        "from sklearn.metrics.pairwise import cosine_similarity\n",
        "from sklearn.preprocessing import StandardScaler\n",
        "\n",
        "# Load datasets\n",
        "customers = pd.read_csv('Customers.csv')\n",
        "products = pd.read_csv('Products.csv')\n",
        "transactions = pd.read_csv('Transactions.csv')\n",
        "\n",
        "# Prepare data for lookalike model\n",
        "# Aggregate transaction data by customer\n",
        "transaction_summary = transactions.groupby('CustomerID').agg({\n",
        "    'TotalValue': 'sum',\n",
        "    'TransactionID': 'count',\n",
        "    'ProductID': lambda x: x.mode()[0]  # Most frequently purchased product\n",
        "}).reset_index().rename(columns={'TransactionID': 'TransactionCount'})\n",
        "\n",
        "# Merge with customer profile data\n",
        "customer_data = customers.merge(transaction_summary, on='CustomerID')\n",
        "\n",
        "# Merge with product data to get product information\n",
        "customer_data = customer_data.merge(products, on='ProductID', how='left')\n",
        "\n",
        "# Select relevant features for similarity calculation\n",
        "features = customer_data[['TotalValue', 'TransactionCount', 'Price']]\n",
        "\n",
        "# Normalize the data\n",
        "scaler = StandardScaler()\n",
        "scaled_features = scaler.fit_transform(features)\n",
        "\n",
        "# Calculate similarity scores\n",
        "similarity_matrix = cosine_similarity(scaled_features)\n",
        "\n",
        "# Function to get lookalikes\n",
        "def get_lookalikes(customer_id, top_n=3):\n",
        "    customer_index = customer_data[customer_data['CustomerID'] == customer_id].index[0]\n",
        "    similar_indices = similarity_matrix[customer_index].argsort()[-top_n-1:-1][::-1]\n",
        "    similar_customers = customer_data.iloc[similar_indices]\n",
        "    scores = similarity_matrix[customer_index][similar_indices]\n",
        "    return list(zip(similar_customers['CustomerID'], scores))\n",
        "\n",
        "# Create a dictionary to store lookalikes for the first 20 customers\n",
        "lookalike_results = {}\n",
        "for customer_id in customer_data['CustomerID'].head(20):\n",
        "    lookalikes = get_lookalikes(customer_id)\n",
        "    lookalike_results[customer_id] = lookalikes\n",
        "\n",
        "# Convert results to the required format\n",
        "# Create a list to store data for the DataFrame\n",
        "lookalike_data = []\n",
        "for customer_id, lookalikes in lookalike_results.items():\n",
        "    for lookalike_id, score in lookalikes:\n",
        "        lookalike_data.append([customer_id, lookalike_id, score])\n",
        "\n",
        "# Create the DataFrame\n",
        "lookalike_df = pd.DataFrame(lookalike_data, columns=['CustomerID', 'LookalikeID', 'SimilarityScore'])\n",
        "lookalike_df.to_csv('Lookalike.csv', index=False)\n",
        "\n",
        "# Display the lookalike results for the first 20 customers\n",
        "print(lookalike_df)"
      ]
    }
  ]
}